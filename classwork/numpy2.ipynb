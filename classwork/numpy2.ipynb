{
 "cells": [
  {
   "cell_type": "code",
   "execution_count": 1,
   "id": "2575d6f5-bb73-49ce-8b77-f626ddfbb09e",
   "metadata": {},
   "outputs": [
    {
     "name": "stdout",
     "output_type": "stream",
     "text": [
      "[1 1 1 1 1] \n",
      "\n",
      "[[0 0 0 0]\n",
      " [0 0 0 0]\n",
      " [0 0 0 0]] \n",
      "\n",
      "[ 0  1  2  3  4  5  6  7  8  9 10] \n",
      "\n",
      "[ 5  6  7  8  9 10] \n",
      "\n",
      "[ 1  4  7 10] \n",
      "\n",
      "[ 1  2  3  4  5  6  7  8  9 10] \n",
      "\n",
      "[[ 1  2]\n",
      " [ 3  4]\n",
      " [ 5  6]\n",
      " [ 7  8]\n",
      " [ 9 10]] \n",
      "\n"
     ]
    }
   ],
   "source": [
    "import numpy as np\n",
    "\n",
    "a = np.ones((5), dtype=int)  # 5=1D array size\n",
    "print(a , \"\\n\")\n",
    "\n",
    "\n",
    "b = np.zeros((3,4), dtype=int)   #(3,4)=2D array row,col\n",
    "print(b , \"\\n\")\n",
    "\n",
    "\n",
    "c = np.arange(11)      # 0 theke param2-1\n",
    "print(c , \"\\n\")\n",
    "c = np.arange(5,11)    # param1 theke param2-1\n",
    "print(c , \"\\n\")\n",
    "c = np.arange(1,11,3)   #param1 theke param2-1, increment by param3\n",
    "print(c , \"\\n\")\n",
    "\n",
    "\n",
    "c = np.arange(1,11)\n",
    "print(c , \"\\n\")\n",
    "c = c.reshape((5,2))       # reshaped c to an 2D array\n",
    "print(c , \"\\n\")\n",
    "\n"
   ]
  },
  {
   "cell_type": "code",
   "execution_count": 6,
   "id": "9734d5a8-face-4c0c-ab37-fa5fd3f128b5",
   "metadata": {},
   "outputs": [
    {
     "data": {
      "text/html": [
       "<div>\n",
       "<style scoped>\n",
       "    .dataframe tbody tr th:only-of-type {\n",
       "        vertical-align: middle;\n",
       "    }\n",
       "\n",
       "    .dataframe tbody tr th {\n",
       "        vertical-align: top;\n",
       "    }\n",
       "\n",
       "    .dataframe thead th {\n",
       "        text-align: right;\n",
       "    }\n",
       "</style>\n",
       "<table border=\"1\" class=\"dataframe\">\n",
       "  <thead>\n",
       "    <tr style=\"text-align: right;\">\n",
       "      <th></th>\n",
       "      <th>y</th>\n",
       "      <th>n</th>\n",
       "    </tr>\n",
       "  </thead>\n",
       "  <tbody>\n",
       "    <tr>\n",
       "      <th>0</th>\n",
       "      <td>2</td>\n",
       "      <td>5</td>\n",
       "    </tr>\n",
       "    <tr>\n",
       "      <th>1</th>\n",
       "      <td>3</td>\n",
       "      <td>6</td>\n",
       "    </tr>\n",
       "    <tr>\n",
       "      <th>2</th>\n",
       "      <td>4</td>\n",
       "      <td>6</td>\n",
       "    </tr>\n",
       "  </tbody>\n",
       "</table>\n",
       "</div>"
      ],
      "text/plain": [
       "   y  n\n",
       "0  2  5\n",
       "1  3  6\n",
       "2  4  6"
      ]
     },
     "execution_count": 6,
     "metadata": {},
     "output_type": "execute_result"
    }
   ],
   "source": [
    "import pandas as pd\n",
    "\n",
    "pd.DataFrame({'y':[2,3,4], 'n':[5,6,6]})"
   ]
  },
  {
   "cell_type": "code",
   "execution_count": 11,
   "id": "2f2f6155-954d-4eb0-abe5-99186b1ccc26",
   "metadata": {},
   "outputs": [
    {
     "data": {
      "text/plain": [
       "0    4\n",
       "1    8\n",
       "2    5\n",
       "3    6\n",
       "4    4\n",
       "dtype: int64"
      ]
     },
     "execution_count": 11,
     "metadata": {},
     "output_type": "execute_result"
    }
   ],
   "source": [
    "pd.Series([4,8,5,6,4])"
   ]
  },
  {
   "cell_type": "code",
   "execution_count": 12,
   "id": "bd632dac-a736-4362-b385-3a0691ed1c29",
   "metadata": {},
   "outputs": [
    {
     "data": {
      "text/plain": [
       "0    [4, 8, 5, 6, 4]\n",
       "1    [3, 5, 6, 7, 8]\n",
       "dtype: object"
      ]
     },
     "execution_count": 12,
     "metadata": {},
     "output_type": "execute_result"
    }
   ],
   "source": [
    "pd.Series([[4,8,5,6,4],\n",
    "           [3,5,6,7,8]])"
   ]
  },
  {
   "cell_type": "code",
   "execution_count": null,
   "id": "10d945bb-92db-4e19-8f15-c902246d6748",
   "metadata": {},
   "outputs": [],
   "source": []
  }
 ],
 "metadata": {
  "kernelspec": {
   "display_name": "Python 3 (ipykernel)",
   "language": "python",
   "name": "python3"
  },
  "language_info": {
   "codemirror_mode": {
    "name": "ipython",
    "version": 3
   },
   "file_extension": ".py",
   "mimetype": "text/x-python",
   "name": "python",
   "nbconvert_exporter": "python",
   "pygments_lexer": "ipython3",
   "version": "3.13.3"
  }
 },
 "nbformat": 4,
 "nbformat_minor": 5
}
