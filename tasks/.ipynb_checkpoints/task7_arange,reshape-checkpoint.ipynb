{
 "cells": [
  {
   "cell_type": "code",
   "execution_count": 6,
   "id": "e590c52f-0068-409f-a929-eeb2c6d0c5c0",
   "metadata": {},
   "outputs": [
    {
     "name": "stdout",
     "output_type": "stream",
     "text": [
      "[ 0  1  2  3  4  5  6  7  8  9 10 11 12 13 14 15 16 17] \n",
      "\n",
      "[20 21 22 23 24 25 26 27 28 29 30 31 32 33 34 35 36 37] \n",
      "\n",
      "[[ 0  1  2]\n",
      " [ 3  4  5]\n",
      " [ 6  7  8]\n",
      " [ 9 10 11]\n",
      " [12 13 14]\n",
      " [15 16 17]] \n",
      "\n",
      "[[20 21 22]\n",
      " [23 24 25]\n",
      " [26 27 28]\n",
      " [29 30 31]\n",
      " [32 33 34]\n",
      " [35 36 37]] \n",
      "\n",
      "the sum matrix: \n",
      " [[20 22 24]\n",
      " [26 28 30]\n",
      " [32 34 36]\n",
      " [38 40 42]\n",
      " [44 46 48]\n",
      " [50 52 54]] \n",
      "\n"
     ]
    }
   ],
   "source": [
    "#task: arange,reshape related\n",
    "\n",
    "import numpy as np\n",
    "\n",
    "a = np.arange(18)\n",
    "print(a, \"\\n\")\n",
    "b = np.arange(20,38)\n",
    "print(b, \"\\n\")\n",
    "\n",
    "a = a.reshape((6,3))\n",
    "b = b.reshape((6,3))\n",
    "print(a, \"\\n\")\n",
    "print(b, \"\\n\")\n",
    "\n",
    "sum = a+b\n",
    "print(\"the sum matrix: \\n\", sum)\n"
   ]
  },
  {
   "cell_type": "code",
   "execution_count": null,
   "id": "448edd04-066e-491b-b3cc-05de537034a0",
   "metadata": {},
   "outputs": [],
   "source": []
  }
 ],
 "metadata": {
  "kernelspec": {
   "display_name": "Python 3 (ipykernel)",
   "language": "python",
   "name": "python3"
  },
  "language_info": {
   "codemirror_mode": {
    "name": "ipython",
    "version": 3
   },
   "file_extension": ".py",
   "mimetype": "text/x-python",
   "name": "python",
   "nbconvert_exporter": "python",
   "pygments_lexer": "ipython3",
   "version": "3.13.3"
  }
 },
 "nbformat": 4,
 "nbformat_minor": 5
}
